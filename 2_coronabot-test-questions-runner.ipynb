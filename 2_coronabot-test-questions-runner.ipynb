{
 "cells": [
  {
   "cell_type": "markdown",
   "source": [
    "# Load test questions, execute them and run all tests"
   ],
   "metadata": {}
  },
  {
   "cell_type": "code",
   "execution_count": 3,
   "source": [
    "# Config\n",
    "\n",
    "qa_system_endpoint = \"https://webengineering.ins.hs-anhalt.de:43740/startquestionansweringwithtextquestion\"\n",
    "\n",
    "# API endpoint: https://webengineering.ins.hs-anhalt.de:44020/\n",
    "\n",
    "connection_details = {\n",
    "    \"endpoint\": \"https://webengineering.ins.hs-anhalt.de:40159\",\n",
    "    \"username\": \"admin\",\n",
    "    \"password\": \"admin\"\n",
    "}\n",
    "\n",
    "database = \"qanary\"\n",
    "\n",
    "folder_name_of_sparql_test_query_templates = \"SPARQL_test_query_templates\"\n",
    "\n",
    "sparql_test_query_templates = [\"01_language_detection.sparql\"]"
   ],
   "outputs": [],
   "metadata": {}
  },
  {
   "cell_type": "markdown",
   "source": [
    "## Load from file"
   ],
   "metadata": {}
  },
  {
   "cell_type": "code",
   "execution_count": 4,
   "source": [
    "import json\n",
    "\n",
    "with open('data.json') as json_file:\n",
    "    test_cases = json.load(json_file)\n",
    "\n",
    "print(f\"number of available test questions: {len(test_cases)}\")"
   ],
   "outputs": [
    {
     "output_type": "stream",
     "name": "stdout",
     "text": [
      "number of available test questions: 4\n"
     ]
    }
   ],
   "metadata": {}
  },
  {
   "cell_type": "markdown",
   "source": [
    "## Helper Methods"
   ],
   "metadata": {}
  },
  {
   "cell_type": "code",
   "execution_count": 5,
   "source": [
    "from pprint import pprint \n",
    "\n",
    "def execute_question_on_qa_system(question) -> str:\n",
    "    \"\"\"\n",
    "        returns the graph ID where the process information is stored\n",
    "    \"\"\"\n",
    "\n",
    "    # TODO: insert call to QA system endpoint using the question\n",
    "    graph_id = \"urn:graph:222f96b8-4ecd-4e3e-a28a-53b46391e43a\" # TODO: change this\n",
    "\n",
    "    return graph_id\n",
    "\n",
    "def get_file_content(filename) -> str:\n",
    "    with open(filename, 'r') as file:\n",
    "        return file.read()\n",
    "    return None\n",
    "\n",
    "def check_test_case(test_case, folder_name_of_sparql_test_query_templates, sparql_test_query_templates, graph_id, connection):\n",
    "    \"\"\" \n",
    "        returns a map of test queries names and the results\n",
    "    \"\"\"\n",
    "\n",
    "    for sparql_test_query_template in sparql_test_query_templates:\n",
    "        sparql_query = get_file_content(folder_name_of_sparql_test_query_templates + \"/\" + sparql_test_query_template)\n",
    "        result = connection.select(sparql_query, bindings={\"graph\": \"<\"+graph_id+\">\"}) # TODO: should be a ASK query\n",
    "        pprint(result)\n",
    "\n"
   ],
   "outputs": [],
   "metadata": {}
  },
  {
   "cell_type": "markdown",
   "source": [
    "## Execute each question on QA system and check results via SPARQL on the Qanary triplestore"
   ],
   "metadata": {}
  },
  {
   "cell_type": "code",
   "execution_count": 6,
   "source": [
    "import stardog # pip3 install pystardog\n",
    "\n",
    "connection = stardog.Connection(database, endpoint=connection_details[\"endpoint\"], username=connection_details[\"username\"], password=connection_details[\"password\"])\n",
    "\n",
    "for test_case in test_cases:\n",
    "    print(test_case[\"question\"])\n",
    "    graph_id = execute_question_on_qa_system(test_case[\"question\"])\n",
    "\n",
    "    check_test_case(test_case, folder_name_of_sparql_test_query_templates, sparql_test_query_templates, graph_id, connection)\n"
   ],
   "outputs": [
    {
     "output_type": "stream",
     "name": "stdout",
     "text": [
      "What was the death toll in Harz District during the last May?\n",
      "{'head': {'vars': ['graph', 'a', 'language']}, 'results': {'bindings': []}}\n",
      "What was the death toll in district of Wernigerode during the last May?\n",
      "{'head': {'vars': ['graph', 'a', 'language']}, 'results': {'bindings': []}}\n",
      "What was the number of incidents of Bernburg in 2020?\n",
      "{'head': {'vars': ['graph', 'a', 'language']}, 'results': {'bindings': []}}\n",
      "What was the number of incidents of Niederschlesischer Oberlausitzkreis in 2021?\n",
      "{'head': {'vars': ['graph', 'a', 'language']}, 'results': {'bindings': []}}\n"
     ]
    }
   ],
   "metadata": {}
  }
 ],
 "metadata": {
  "orig_nbformat": 4,
  "language_info": {
   "name": "python",
   "version": "3.6.9",
   "mimetype": "text/x-python",
   "codemirror_mode": {
    "name": "ipython",
    "version": 3
   },
   "pygments_lexer": "ipython3",
   "nbconvert_exporter": "python",
   "file_extension": ".py"
  },
  "kernelspec": {
   "name": "python3",
   "display_name": "Python 3.6.9 64-bit"
  },
  "interpreter": {
   "hash": "31f2aee4e71d21fbe5cf8b01ff0e069b9275f58929596ceb00d14d90e3e16cd6"
  }
 },
 "nbformat": 4,
 "nbformat_minor": 2
}
