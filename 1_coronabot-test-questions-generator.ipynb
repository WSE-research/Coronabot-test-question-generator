{
 "cells": [
  {
   "cell_type": "markdown",
   "source": [
    "# Question Generator for Coronabot"
   ],
   "metadata": {}
  },
  {
   "cell_type": "markdown",
   "source": [
    "## Define question templates and required parameters"
   ],
   "metadata": {}
  },
  {
   "cell_type": "code",
   "execution_count": 44,
   "source": [
    "templates = [\n",
    "        {\n",
    "            \"intent\": \"deaths\",\n",
    "            \"last\": True,\n",
    "            \"questions\": [\n",
    "                \"What was the death toll in [PLACE] during the last [MONTH]?\"\n",
    "            ]\n",
    "        },\n",
    "        {\n",
    "            \"intent\": \"incidents\",\n",
    "            \"last\": False,\n",
    "            \"questions\": [\n",
    "                \"How many infections were there in [PLACE] in [MONTH] [YEAR]?\"\n",
    "            ]\n",
    "        },\n",
    "        {\n",
    "            \"intent\": \"incidents\",\n",
    "            \"last\": False,\n",
    "            \"questions\": [\n",
    "                \"What was the number of incidents of [PLACE] in [YEAR]?\"\n",
    "            ]\n",
    "        }\n",
    "]\n",
    "\n",
    "parameters = {\n",
    "    \"MONTH\": [\"January\", \"February\", \"March\", \"April\", \"May\", \"June\"],\n",
    "    \"YEAR\": [2020, 2021],\n",
    "    \"PLACE\": []\n",
    "}"
   ],
   "outputs": [],
   "metadata": {}
  },
  {
   "cell_type": "markdown",
   "source": [
    "### add places from Wikidata"
   ],
   "metadata": {}
  },
  {
   "cell_type": "code",
   "execution_count": 45,
   "source": [
    "from pprint import pprint\n",
    "from SPARQLWrapper import SPARQLWrapper, JSON # https://sparqlwrapper.readthedocs.io/en/latest/main.html\n",
    "\n",
    "sparql = SPARQLWrapper(\"https://query.wikidata.org/bigdata/namespace/wdq/sparql\")\n",
    "sparql.setQuery(\"\"\"\n",
    "# get all districts\n",
    "\n",
    "PREFIX wd: <http://www.wikidata.org/entity/>\n",
    "PREFIX wdt: <http://www.wikidata.org/prop/direct/>\n",
    "PREFIX rdf: <http://www.w3.org/1999/02/22-rdf-syntax-ns#>\n",
    "PREFIX rdfs: <http://www.w3.org/2000/01/rdf-schema#>\n",
    "PREFIX p: <http://www.wikidata.org/prop/>\n",
    "PREFIX ps: <http://www.wikidata.org/prop/statement/>\n",
    "PREFIX pq: <http://www.wikidata.org/prop/qualifier/>\n",
    "\n",
    "SELECT DISTINCT ?district ?label WHERE {\n",
    "  #VALUES ?district { wd:Q6098 } .\n",
    "  ?district p:P31/ps:P31/wdt:P279* wd:Q106658 .\n",
    "  ?district wdt:P17 wd:Q183 .\n",
    "  ?district rdfs:label ?label .\n",
    "  FILTER (LANG(?label) = \"en\").\n",
    "} \n",
    "LIMIT 10\n",
    "\"\"\")\n",
    "sparql.setReturnFormat(JSON)\n",
    "results = sparql.query().convert()\n",
    "# pprint(results)\n",
    "\n",
    "place_values = []\n",
    "place_names_map = {}\n",
    "for result in results[\"results\"][\"bindings\"]:\n",
    "    # print(result[\"label\"][\"value\"], result[\"district\"][\"value\"])\n",
    "    place_values.append(result[\"label\"][\"value\"])\n",
    "    place_names_map[result[\"label\"][\"value\"]] = result[\"district\"][\"value\"]\n",
    "\n",
    "pprint(place_names_map)\n",
    "parameters[\"PLACE\"] = place_values\n",
    "number=len(parameters[\"PLACE\"])\n",
    "print(f\"number of found places: {number}\")\n"
   ],
   "outputs": [
    {
     "output_type": "stream",
     "name": "stdout",
     "text": [
      "{'Bernburg': 'http://www.wikidata.org/entity/Q114157',\n",
      " 'Bitterfeld': 'http://www.wikidata.org/entity/Q114614',\n",
      " 'Burgenlandkreis': 'http://www.wikidata.org/entity/Q6102',\n",
      " 'Delitzsch': 'http://www.wikidata.org/entity/Q20230',\n",
      " 'Harz District': 'http://www.wikidata.org/entity/Q6087',\n",
      " 'Mittweida': 'http://www.wikidata.org/entity/Q20253',\n",
      " 'Müritz': 'http://www.wikidata.org/entity/Q164955',\n",
      " 'Niederschlesischer Oberlausitzkreis': 'http://www.wikidata.org/entity/Q20259',\n",
      " 'Weißeritzkreis': 'http://www.wikidata.org/entity/Q20274',\n",
      " 'district of Wernigerode': 'http://www.wikidata.org/entity/Q114127'}\n",
      "number of found places: 10\n"
     ]
    }
   ],
   "metadata": {}
  },
  {
   "cell_type": "markdown",
   "source": [
    "## Generate questions"
   ],
   "metadata": {}
  },
  {
   "cell_type": "code",
   "execution_count": 48,
   "source": [
    "import time\n",
    "import random\n",
    "random.seed(round(time.time() * 1000))\n",
    "\n",
    "def get_random_parameters(parameters):\n",
    "    result = {}\n",
    "    for k in parameters.keys():\n",
    "        random_key = random.randint(0,len(parameters[k])-1)\n",
    "        result[k] = parameters[k][random_key]\n",
    "    return result\n",
    "\n",
    "def get_random_list_of_templates_questions(questions, number_of_questions_to_be_selected):\n",
    "    randomly_selected_questions = []\n",
    "    number_of_available_questions = len(questions)\n",
    "    for i in range(number_of_questions_to_be_selected):\n",
    "        random_key = random.randint(0,number_of_available_questions-1)\n",
    "        randomly_selected_questions.append(questions[random_key])\n",
    "    return randomly_selected_questions\n",
    "\n",
    "generated_questions = []\n",
    "\n",
    "random_templates = get_random_list_of_templates_questions(templates, 4)\n",
    "for template in random_templates:\n",
    "    intent = template[\"intent\"]\n",
    "    questions = template[\"questions\"]\n",
    "    for question in questions:\n",
    "        concrete_parameters = get_random_parameters(parameters)\n",
    "        for place_holder, concrete_instance in concrete_parameters.items():\n",
    "            question = question.replace('['+place_holder+']', str(concrete_instance))\n",
    "        print(question)\n",
    "        generated_questions.append({\"question\": question, \"parameters\": concrete_parameters, \"template\": template})\n",
    "\n",
    "\n",
    "pprint(generated_questions, width=120)"
   ],
   "outputs": [
    {
     "output_type": "stream",
     "name": "stdout",
     "text": [
      "What was the death toll in Harz District during the last May?\n",
      "What was the death toll in district of Wernigerode during the last May?\n",
      "What was the number of incidents of Bernburg in 2020?\n",
      "What was the number of incidents of Niederschlesischer Oberlausitzkreis in 2021?\n",
      "[{'parameters': {'MONTH': 'May', 'PLACE': 'Harz District', 'YEAR': 2021},\n",
      "  'question': 'What was the death toll in Harz District during the last May?',\n",
      "  'template': {'intent': 'deaths',\n",
      "               'last': True,\n",
      "               'questions': ['What was the death toll in [PLACE] during the last [MONTH]?']}},\n",
      " {'parameters': {'MONTH': 'May', 'PLACE': 'district of Wernigerode', 'YEAR': 2021},\n",
      "  'question': 'What was the death toll in district of Wernigerode during the last May?',\n",
      "  'template': {'intent': 'deaths',\n",
      "               'last': True,\n",
      "               'questions': ['What was the death toll in [PLACE] during the last [MONTH]?']}},\n",
      " {'parameters': {'MONTH': 'June', 'PLACE': 'Bernburg', 'YEAR': 2020},\n",
      "  'question': 'What was the number of incidents of Bernburg in 2020?',\n",
      "  'template': {'intent': 'incidents',\n",
      "               'last': False,\n",
      "               'questions': ['What was the number of incidents of [PLACE] in [YEAR]?']}},\n",
      " {'parameters': {'MONTH': 'January', 'PLACE': 'Niederschlesischer Oberlausitzkreis', 'YEAR': 2021},\n",
      "  'question': 'What was the number of incidents of Niederschlesischer Oberlausitzkreis in 2021?',\n",
      "  'template': {'intent': 'incidents',\n",
      "               'last': False,\n",
      "               'questions': ['What was the number of incidents of [PLACE] in [YEAR]?']}}]\n"
     ]
    }
   ],
   "metadata": {}
  },
  {
   "cell_type": "markdown",
   "source": [
    "# Output to file"
   ],
   "metadata": {}
  },
  {
   "cell_type": "code",
   "execution_count": 49,
   "source": [
    "import json \n",
    "\n",
    "with open('data.json', 'w') as outfile:\n",
    "    json.dump(generated_questions, outfile, indent=4)"
   ],
   "outputs": [],
   "metadata": {}
  }
 ],
 "metadata": {
  "orig_nbformat": 4,
  "language_info": {
   "name": "python",
   "version": "3.6.9",
   "mimetype": "text/x-python",
   "codemirror_mode": {
    "name": "ipython",
    "version": 3
   },
   "pygments_lexer": "ipython3",
   "nbconvert_exporter": "python",
   "file_extension": ".py"
  },
  "kernelspec": {
   "name": "python3",
   "display_name": "Python 3.6.9 64-bit"
  },
  "interpreter": {
   "hash": "31f2aee4e71d21fbe5cf8b01ff0e069b9275f58929596ceb00d14d90e3e16cd6"
  }
 },
 "nbformat": 4,
 "nbformat_minor": 2
}